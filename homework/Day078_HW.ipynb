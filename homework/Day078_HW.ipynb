{
 "cells": [
  {
   "cell_type": "markdown",
   "metadata": {},
   "source": [
    "## Work\n",
    "1. 請嘗試將 preproc_x 替換成以每筆資料的 min/max 進行標準化至 -1 ~ 1 間，再進行訓練\n",
    "2. 請嘗試將 mlp 疊更深 (e.g 5~10 層)，進行訓練後觀察 learning curve 的走勢\n",
    "3. (optional) 請改用 GPU 進行訓練 (如果你有 GPU 的話)，比較使用 CPU 與 GPU 的訓練速度"
   ]
  },
  {
   "cell_type": "code",
   "execution_count": 1,
   "metadata": {},
   "outputs": [],
   "source": [
    "## \n",
    "\"\"\"\n",
    "Your code here (optional)\n",
    "確認硬體資源\n",
    "\"\"\"\n"
   ]
  },
  {
   "cell_type": "code",
   "execution_count": 2,
   "metadata": {},
   "outputs": [
    {
     "name": "stderr",
     "output_type": "stream",
     "text": [
      "Using TensorFlow backend.\n"
     ]
    }
   ],
   "source": [
    "import os\n",
    "import keras\n",
    "\n",
    "# 請嘗試設定 GPU：os.environ\n",
    "os.environ[\"CUDA_VISIBLE_DEVICES\"] = \"0\""
   ]
  },
  {
   "cell_type": "code",
   "execution_count": 17,
   "metadata": {},
   "outputs": [],
   "source": [
    "train, test = keras.datasets.cifar10.load_data()"
   ]
  },
  {
   "cell_type": "code",
   "execution_count": 18,
   "metadata": {},
   "outputs": [],
   "source": [
    "## 資料前處理\n",
    "\"\"\"\n",
    "Your code here\n",
    "\"\"\"\n",
    "def preproc_x(x, flatten=True):\n",
    "    x = (x - x.min())/(x.max()-x.min()) - 0.5\n",
    "    if flatten:\n",
    "        x = x.reshape(len(x),-1)\n",
    "    return x\n",
    "\n",
    "def preproc_y(y, num_classes=10):\n",
    "    if y.shape[-1] == 1:\n",
    "        y = keras.utils.to_categorical(y, num_classes)\n",
    "    return y    "
   ]
  },
  {
   "cell_type": "code",
   "execution_count": 19,
   "metadata": {},
   "outputs": [],
   "source": [
    "x_train, y_train = train\n",
    "x_test, y_test = test\n",
    "\n",
    "# Preproc the inputs\n",
    "x_train = preproc_x(x_train)\n",
    "x_test = preproc_x(x_test)\n",
    "\n",
    "# Preprc the outputs\n",
    "y_train = preproc_y(y_train)\n",
    "y_test = preproc_y(y_test)"
   ]
  },
  {
   "cell_type": "code",
   "execution_count": 20,
   "metadata": {},
   "outputs": [
    {
     "name": "stdout",
     "output_type": "stream",
     "text": [
      "_________________________________________________________________\n",
      "Layer (type)                 Output Shape              Param #   \n",
      "=================================================================\n",
      "input_2 (InputLayer)         (None, 3072)              0         \n",
      "_________________________________________________________________\n",
      "hidden_layer1 (Dense)        (None, 512)               1573376   \n",
      "_________________________________________________________________\n",
      "hidden_layer2 (Dense)        (None, 256)               131328    \n",
      "_________________________________________________________________\n",
      "hidden_layer3 (Dense)        (None, 128)               32896     \n",
      "_________________________________________________________________\n",
      "hidden_layer4 (Dense)        (None, 64)                8256      \n",
      "_________________________________________________________________\n",
      "hidden_layer5 (Dense)        (None, 32)                2080      \n",
      "_________________________________________________________________\n",
      "hidden_layer6 (Dense)        (None, 16)                528       \n",
      "_________________________________________________________________\n",
      "output (Dense)               (None, 10)                170       \n",
      "=================================================================\n",
      "Total params: 1,748,634\n",
      "Trainable params: 1,748,634\n",
      "Non-trainable params: 0\n",
      "_________________________________________________________________\n"
     ]
    }
   ],
   "source": [
    "def build_mlp(input_shape, output_units=10, num_neurons=[512, 256, 128, 64, 32, 16]):\n",
    "    input_layer = keras.layers.Input(input_shape)\n",
    "    \n",
    "    for i, n_units in enumerate(num_neurons):\n",
    "        if i == 0:\n",
    "            x = keras.layers.Dense(units=n_units, activation=\"relu\", name=\"hidden_layer\"+str(i+1))(input_layer)\n",
    "        else:\n",
    "            x = keras.layers.Dense(units=n_units, activation=\"relu\", name=\"hidden_layer\"+str(i+1))(x)\n",
    "    \n",
    "    out = keras.layers.Dense(units=output_units, activation=\"softmax\", name=\"output\")(x)\n",
    "    \n",
    "    model = keras.models.Model(inputs=[input_layer], outputs=[out])\n",
    "    return model\n",
    "\n",
    "model = build_mlp(input_shape=x_train.shape[1:])\n",
    "model.summary()"
   ]
  },
  {
   "cell_type": "code",
   "execution_count": 21,
   "metadata": {},
   "outputs": [],
   "source": [
    "## 超參數設定\n",
    "LEARNING_RATE = 0.001\n",
    "EPOCHS = 100\n",
    "BATCH_SIZE = 256"
   ]
  },
  {
   "cell_type": "code",
   "execution_count": 22,
   "metadata": {},
   "outputs": [],
   "source": [
    "optimizer = keras.optimizers.Adam(lr=LEARNING_RATE)\n",
    "model.compile(loss=\"categorical_crossentropy\", metrics=[\"accuracy\"], optimizer=optimizer)"
   ]
  },
  {
   "cell_type": "code",
   "execution_count": 23,
   "metadata": {},
   "outputs": [
    {
     "name": "stdout",
     "output_type": "stream",
     "text": [
      "Train on 50000 samples, validate on 10000 samples\n",
      "Epoch 1/100\n",
      "50000/50000 [==============================] - 12s 233us/step - loss: 1.7986 - acc: 0.3661 - val_loss: 1.5983 - val_acc: 0.4392\n",
      "Epoch 2/100\n",
      "50000/50000 [==============================] - 9s 178us/step - loss: 1.5212 - acc: 0.4660 - val_loss: 1.4733 - val_acc: 0.4841\n",
      "Epoch 3/100\n",
      "50000/50000 [==============================] - 9s 172us/step - loss: 1.3924 - acc: 0.5085 - val_loss: 1.4185 - val_acc: 0.5029\n",
      "Epoch 4/100\n",
      "50000/50000 [==============================] - 8s 169us/step - loss: 1.2837 - acc: 0.5479 - val_loss: 1.3876 - val_acc: 0.5178\n",
      "Epoch 5/100\n",
      "50000/50000 [==============================] - 9s 171us/step - loss: 1.2081 - acc: 0.5738 - val_loss: 1.3742 - val_acc: 0.5223\n",
      "Epoch 6/100\n",
      "50000/50000 [==============================] - 8s 166us/step - loss: 1.1220 - acc: 0.6031 - val_loss: 1.3606 - val_acc: 0.5298\n",
      "Epoch 7/100\n",
      "50000/50000 [==============================] - 8s 170us/step - loss: 1.0447 - acc: 0.6337 - val_loss: 1.3626 - val_acc: 0.5270\n",
      "Epoch 8/100\n",
      "50000/50000 [==============================] - 8s 167us/step - loss: 0.9750 - acc: 0.6570 - val_loss: 1.3761 - val_acc: 0.5366\n",
      "Epoch 9/100\n",
      "50000/50000 [==============================] - 9s 186us/step - loss: 0.9063 - acc: 0.6818 - val_loss: 1.3884 - val_acc: 0.5422\n",
      "Epoch 10/100\n",
      "50000/50000 [==============================] - 8s 169us/step - loss: 0.8359 - acc: 0.7072 - val_loss: 1.4706 - val_acc: 0.5276\n",
      "Epoch 11/100\n",
      "50000/50000 [==============================] - 8s 165us/step - loss: 0.7762 - acc: 0.7250 - val_loss: 1.4535 - val_acc: 0.5427\n",
      "Epoch 12/100\n",
      "50000/50000 [==============================] - 8s 166us/step - loss: 0.7055 - acc: 0.7512 - val_loss: 1.5199 - val_acc: 0.5427\n",
      "Epoch 13/100\n",
      "50000/50000 [==============================] - 8s 164us/step - loss: 0.6465 - acc: 0.7723 - val_loss: 1.5948 - val_acc: 0.5413\n",
      "Epoch 14/100\n",
      "50000/50000 [==============================] - 8s 164us/step - loss: 0.5876 - acc: 0.7922 - val_loss: 1.6655 - val_acc: 0.5360\n",
      "Epoch 15/100\n",
      "50000/50000 [==============================] - 8s 167us/step - loss: 0.5425 - acc: 0.8101 - val_loss: 1.6894 - val_acc: 0.5451\n",
      "Epoch 16/100\n",
      "50000/50000 [==============================] - 8s 168us/step - loss: 0.5007 - acc: 0.8224 - val_loss: 1.8020 - val_acc: 0.5363\n",
      "Epoch 17/100\n",
      "50000/50000 [==============================] - 8s 168us/step - loss: 0.4453 - acc: 0.8429 - val_loss: 1.9270 - val_acc: 0.5373\n",
      "Epoch 18/100\n",
      "50000/50000 [==============================] - 8s 167us/step - loss: 0.4220 - acc: 0.8526 - val_loss: 1.9983 - val_acc: 0.5375\n",
      "Epoch 19/100\n",
      "50000/50000 [==============================] - 8s 167us/step - loss: 0.3794 - acc: 0.8682 - val_loss: 2.1529 - val_acc: 0.5383\n",
      "Epoch 20/100\n",
      "50000/50000 [==============================] - 8s 166us/step - loss: 0.3519 - acc: 0.8768 - val_loss: 2.1971 - val_acc: 0.5366\n",
      "Epoch 21/100\n",
      "50000/50000 [==============================] - 10s 203us/step - loss: 0.3216 - acc: 0.8875 - val_loss: 2.2224 - val_acc: 0.5333: 0.3189 - ac\n",
      "Epoch 22/100\n",
      "50000/50000 [==============================] - 9s 172us/step - loss: 0.3049 - acc: 0.8937 - val_loss: 2.3991 - val_acc: 0.5302\n",
      "Epoch 23/100\n",
      "50000/50000 [==============================] - 8s 168us/step - loss: 0.2776 - acc: 0.9044 - val_loss: 2.4397 - val_acc: 0.5420\n",
      "Epoch 24/100\n",
      "50000/50000 [==============================] - 8s 168us/step - loss: 0.2563 - acc: 0.9122 - val_loss: 2.5741 - val_acc: 0.5392\n",
      "Epoch 25/100\n",
      "50000/50000 [==============================] - 8s 166us/step - loss: 0.2443 - acc: 0.9155 - val_loss: 2.5209 - val_acc: 0.5368\n",
      "Epoch 26/100\n",
      "50000/50000 [==============================] - 8s 166us/step - loss: 0.2494 - acc: 0.9150 - val_loss: 2.6691 - val_acc: 0.5345\n",
      "Epoch 27/100\n",
      "50000/50000 [==============================] - 8s 167us/step - loss: 0.2113 - acc: 0.9270 - val_loss: 2.6643 - val_acc: 0.5273\n",
      "Epoch 28/100\n",
      "50000/50000 [==============================] - 8s 166us/step - loss: 0.2046 - acc: 0.9307 - val_loss: 2.7913 - val_acc: 0.5304\n",
      "Epoch 29/100\n",
      "50000/50000 [==============================] - 8s 167us/step - loss: 0.2138 - acc: 0.9261 - val_loss: 2.8397 - val_acc: 0.5375\n",
      "Epoch 30/100\n",
      "50000/50000 [==============================] - 8s 166us/step - loss: 0.1975 - acc: 0.9326 - val_loss: 2.8443 - val_acc: 0.5371\n",
      "Epoch 31/100\n",
      "50000/50000 [==============================] - 8s 168us/step - loss: 0.1891 - acc: 0.9353 - val_loss: 2.8539 - val_acc: 0.5360\n",
      "Epoch 32/100\n",
      "50000/50000 [==============================] - 9s 176us/step - loss: 0.1838 - acc: 0.9362 - val_loss: 2.9917 - val_acc: 0.5320\n",
      "Epoch 33/100\n",
      "50000/50000 [==============================] - 9s 188us/step - loss: 0.1784 - acc: 0.9386 - val_loss: 2.9933 - val_acc: 0.5309\n",
      "Epoch 34/100\n",
      "50000/50000 [==============================] - 10s 193us/step - loss: 0.1503 - acc: 0.9489 - val_loss: 3.0352 - val_acc: 0.5325\n",
      "Epoch 35/100\n",
      "50000/50000 [==============================] - 8s 168us/step - loss: 0.1613 - acc: 0.9443 - val_loss: 3.0400 - val_acc: 0.5318\n",
      "Epoch 36/100\n",
      "50000/50000 [==============================] - 8s 166us/step - loss: 0.1650 - acc: 0.9427 - val_loss: 3.1349 - val_acc: 0.5396\n",
      "Epoch 37/100\n",
      "50000/50000 [==============================] - 8s 167us/step - loss: 0.1491 - acc: 0.9485 - val_loss: 3.1701 - val_acc: 0.5348\n",
      "Epoch 38/100\n",
      "50000/50000 [==============================] - 8s 169us/step - loss: 0.1694 - acc: 0.9426 - val_loss: 3.0543 - val_acc: 0.5407\n",
      "Epoch 39/100\n",
      "50000/50000 [==============================] - 9s 170us/step - loss: 0.1359 - acc: 0.9537 - val_loss: 3.2339 - val_acc: 0.5440\n",
      "Epoch 40/100\n",
      "50000/50000 [==============================] - 9s 170us/step - loss: 0.1237 - acc: 0.9568 - val_loss: 3.3486 - val_acc: 0.5365\n",
      "Epoch 41/100\n",
      "50000/50000 [==============================] - 9s 170us/step - loss: 0.1384 - acc: 0.9527 - val_loss: 3.2162 - val_acc: 0.5324\n",
      "Epoch 42/100\n",
      "50000/50000 [==============================] - 8s 168us/step - loss: 0.1372 - acc: 0.9532 - val_loss: 3.2393 - val_acc: 0.5402\n",
      "Epoch 43/100\n",
      "50000/50000 [==============================] - 8s 169us/step - loss: 0.1191 - acc: 0.9605 - val_loss: 3.3067 - val_acc: 0.5296\n",
      "Epoch 44/100\n",
      "50000/50000 [==============================] - 9s 186us/step - loss: 0.1191 - acc: 0.9593 - val_loss: 3.4615 - val_acc: 0.5370\n",
      "Epoch 45/100\n",
      "50000/50000 [==============================] - 9s 181us/step - loss: 0.1405 - acc: 0.9534 - val_loss: 3.2727 - val_acc: 0.5363\n",
      "Epoch 46/100\n",
      "50000/50000 [==============================] - 8s 167us/step - loss: 0.1257 - acc: 0.9579 - val_loss: 3.3431 - val_acc: 0.5361\n",
      "Epoch 47/100\n",
      "50000/50000 [==============================] - 8s 166us/step - loss: 0.1186 - acc: 0.9599 - val_loss: 3.4645 - val_acc: 0.5315\n",
      "Epoch 48/100\n",
      "50000/50000 [==============================] - 8s 167us/step - loss: 0.1228 - acc: 0.9593 - val_loss: 3.4851 - val_acc: 0.5377\n",
      "Epoch 49/100\n",
      "50000/50000 [==============================] - 8s 166us/step - loss: 0.0998 - acc: 0.9656 - val_loss: 3.4295 - val_acc: 0.5401\n",
      "Epoch 50/100\n",
      "50000/50000 [==============================] - 8s 167us/step - loss: 0.1093 - acc: 0.9630 - val_loss: 3.5751 - val_acc: 0.5316\n",
      "Epoch 51/100\n",
      "50000/50000 [==============================] - 8s 167us/step - loss: 0.1365 - acc: 0.9552 - val_loss: 3.3556 - val_acc: 0.5386\n",
      "Epoch 52/100\n",
      "50000/50000 [==============================] - 8s 170us/step - loss: 0.1019 - acc: 0.9661 - val_loss: 3.4939 - val_acc: 0.5317\n",
      "Epoch 53/100\n",
      "50000/50000 [==============================] - 8s 166us/step - loss: 0.0981 - acc: 0.9670 - val_loss: 3.5174 - val_acc: 0.5318\n",
      "Epoch 54/100\n",
      "50000/50000 [==============================] - 8s 168us/step - loss: 0.0977 - acc: 0.9673 - val_loss: 3.4490 - val_acc: 0.5351\n",
      "Epoch 55/100\n",
      "50000/50000 [==============================] - 8s 166us/step - loss: 0.1060 - acc: 0.9647 - val_loss: 3.4716 - val_acc: 0.5365\n",
      "Epoch 56/100\n",
      "50000/50000 [==============================] - 10s 201us/step - loss: 0.1080 - acc: 0.9643 - val_loss: 3.4969 - val_acc: 0.5307.1082 -\n",
      "Epoch 57/100\n",
      "50000/50000 [==============================] - 9s 175us/step - loss: 0.0883 - acc: 0.9700 - val_loss: 3.6837 - val_acc: 0.5298\n",
      "Epoch 58/100\n",
      "50000/50000 [==============================] - 8s 167us/step - loss: 0.0941 - acc: 0.9693 - val_loss: 3.6389 - val_acc: 0.5329\n",
      "Epoch 59/100\n"
     ]
    },
    {
     "name": "stdout",
     "output_type": "stream",
     "text": [
      "50000/50000 [==============================] - 8s 166us/step - loss: 0.0820 - acc: 0.9720 - val_loss: 3.7121 - val_acc: 0.5282\n",
      "Epoch 60/100\n",
      "50000/50000 [==============================] - 8s 163us/step - loss: 0.1027 - acc: 0.9661 - val_loss: 3.6898 - val_acc: 0.5317\n",
      "Epoch 61/100\n",
      "50000/50000 [==============================] - 8s 167us/step - loss: 0.0963 - acc: 0.9679 - val_loss: 3.7115 - val_acc: 0.5270\n",
      "Epoch 62/100\n",
      "50000/50000 [==============================] - 8s 167us/step - loss: 0.0977 - acc: 0.9681 - val_loss: 3.6021 - val_acc: 0.5322\n",
      "Epoch 63/100\n",
      "50000/50000 [==============================] - 9s 176us/step - loss: 0.1013 - acc: 0.9670 - val_loss: 3.5520 - val_acc: 0.5328\n",
      "Epoch 64/100\n",
      "50000/50000 [==============================] - 9s 179us/step - loss: 0.0732 - acc: 0.9754 - val_loss: 3.7353 - val_acc: 0.5334\n",
      "Epoch 65/100\n",
      "50000/50000 [==============================] - 9s 174us/step - loss: 0.0928 - acc: 0.9696 - val_loss: 3.6749 - val_acc: 0.5302\n",
      "Epoch 66/100\n",
      "50000/50000 [==============================] - 9s 171us/step - loss: 0.0862 - acc: 0.9713 - val_loss: 3.7568 - val_acc: 0.5375\n",
      "Epoch 67/100\n",
      "50000/50000 [==============================] - 8s 170us/step - loss: 0.0941 - acc: 0.9689 - val_loss: 3.6566 - val_acc: 0.5301\n",
      "Epoch 68/100\n",
      "50000/50000 [==============================] - 9s 180us/step - loss: 0.0851 - acc: 0.9733 - val_loss: 3.7214 - val_acc: 0.5357\n",
      "Epoch 69/100\n",
      "50000/50000 [==============================] - 9s 183us/step - loss: 0.0758 - acc: 0.9751 - val_loss: 3.8352 - val_acc: 0.5350\n",
      "Epoch 70/100\n",
      "50000/50000 [==============================] - 8s 167us/step - loss: 0.0774 - acc: 0.9757 - val_loss: 3.7013 - val_acc: 0.5406\n",
      "Epoch 71/100\n",
      "50000/50000 [==============================] - 8s 167us/step - loss: 0.0826 - acc: 0.9723 - val_loss: 3.7360 - val_acc: 0.5300\n",
      "Epoch 72/100\n",
      "50000/50000 [==============================] - 8s 165us/step - loss: 0.0809 - acc: 0.9737 - val_loss: 3.7965 - val_acc: 0.5292\n",
      "Epoch 73/100\n",
      "50000/50000 [==============================] - 8s 167us/step - loss: 0.0879 - acc: 0.9714 - val_loss: 3.7183 - val_acc: 0.5344\n",
      "Epoch 74/100\n",
      "50000/50000 [==============================] - 8s 164us/step - loss: 0.0849 - acc: 0.9727 - val_loss: 3.7983 - val_acc: 0.5463\n",
      "Epoch 75/100\n",
      "50000/50000 [==============================] - 8s 166us/step - loss: 0.0622 - acc: 0.9798 - val_loss: 3.8598 - val_acc: 0.5327\n",
      "Epoch 76/100\n",
      "50000/50000 [==============================] - 8s 167us/step - loss: 0.0776 - acc: 0.9754 - val_loss: 3.8135 - val_acc: 0.5325\n",
      "Epoch 77/100\n",
      "50000/50000 [==============================] - 8s 164us/step - loss: 0.0927 - acc: 0.9691 - val_loss: 3.7134 - val_acc: 0.5305\n",
      "Epoch 78/100\n",
      "50000/50000 [==============================] - 8s 166us/step - loss: 0.0742 - acc: 0.9748 - val_loss: 3.7976 - val_acc: 0.5329\n",
      "Epoch 79/100\n",
      "50000/50000 [==============================] - 9s 179us/step - loss: 0.0684 - acc: 0.9774 - val_loss: 3.8553 - val_acc: 0.5367\n",
      "Epoch 80/100\n",
      "50000/50000 [==============================] - 9s 176us/step - loss: 0.0856 - acc: 0.9718 - val_loss: 3.7034 - val_acc: 0.5366\n",
      "Epoch 81/100\n",
      "50000/50000 [==============================] - 8s 165us/step - loss: 0.0606 - acc: 0.9802 - val_loss: 3.8960 - val_acc: 0.5459\n",
      "Epoch 82/100\n",
      "50000/50000 [==============================] - 8s 166us/step - loss: 0.0764 - acc: 0.9758 - val_loss: 3.9019 - val_acc: 0.5402\n",
      "Epoch 83/100\n",
      "50000/50000 [==============================] - 8s 169us/step - loss: 0.0644 - acc: 0.9794 - val_loss: 3.9469 - val_acc: 0.5334\n",
      "Epoch 84/100\n",
      "50000/50000 [==============================] - 8s 168us/step - loss: 0.0893 - acc: 0.9717 - val_loss: 3.8045 - val_acc: 0.5362\n",
      "Epoch 85/100\n",
      "50000/50000 [==============================] - 8s 169us/step - loss: 0.0688 - acc: 0.9785 - val_loss: 3.7518 - val_acc: 0.5347\n",
      "Epoch 86/100\n",
      "50000/50000 [==============================] - 8s 169us/step - loss: 0.0733 - acc: 0.9757 - val_loss: 3.8302 - val_acc: 0.5295\n",
      "Epoch 87/100\n",
      "50000/50000 [==============================] - 8s 166us/step - loss: 0.0646 - acc: 0.9788 - val_loss: 3.8792 - val_acc: 0.5292\n",
      "Epoch 88/100\n",
      "50000/50000 [==============================] - 8s 169us/step - loss: 0.0611 - acc: 0.9804 - val_loss: 3.8779 - val_acc: 0.5311\n",
      "Epoch 89/100\n",
      "50000/50000 [==============================] - 8s 166us/step - loss: 0.0793 - acc: 0.9741 - val_loss: 3.8769 - val_acc: 0.5367\n",
      "Epoch 90/100\n",
      "50000/50000 [==============================] - 8s 165us/step - loss: 0.0533 - acc: 0.9824 - val_loss: 3.9442 - val_acc: 0.5429\n",
      "Epoch 91/100\n",
      "50000/50000 [==============================] - 9s 183us/step - loss: 0.0733 - acc: 0.9764 - val_loss: 4.0132 - val_acc: 0.5341\n",
      "Epoch 92/100\n",
      "50000/50000 [==============================] - 9s 177us/step - loss: 0.0623 - acc: 0.9793 - val_loss: 3.9236 - val_acc: 0.5352\n",
      "Epoch 93/100\n",
      "50000/50000 [==============================] - 8s 167us/step - loss: 0.0826 - acc: 0.9741 - val_loss: 3.8606 - val_acc: 0.5322\n",
      "Epoch 94/100\n",
      "50000/50000 [==============================] - 8s 165us/step - loss: 0.0630 - acc: 0.9797 - val_loss: 3.8925 - val_acc: 0.5338\n",
      "Epoch 95/100\n",
      "50000/50000 [==============================] - 8s 166us/step - loss: 0.0460 - acc: 0.9851 - val_loss: 3.9578 - val_acc: 0.5348\n",
      "Epoch 96/100\n",
      "50000/50000 [==============================] - 8s 165us/step - loss: 0.0718 - acc: 0.9770 - val_loss: 3.8119 - val_acc: 0.5392\n",
      "Epoch 97/100\n",
      "50000/50000 [==============================] - 8s 165us/step - loss: 0.0796 - acc: 0.9743 - val_loss: 3.7363 - val_acc: 0.5406\n",
      "Epoch 98/100\n",
      "50000/50000 [==============================] - 8s 165us/step - loss: 0.0447 - acc: 0.9854 - val_loss: 3.9186 - val_acc: 0.5377\n",
      "Epoch 99/100\n",
      "50000/50000 [==============================] - 8s 168us/step - loss: 0.0628 - acc: 0.9796 - val_loss: 3.9032 - val_acc: 0.5313\n",
      "Epoch 100/100\n",
      "50000/50000 [==============================] - 8s 166us/step - loss: 0.0718 - acc: 0.9764 - val_loss: 3.8427 - val_acc: 0.5369\n"
     ]
    },
    {
     "data": {
      "text/plain": [
       "<keras.callbacks.History at 0x2095655d080>"
      ]
     },
     "execution_count": 23,
     "metadata": {},
     "output_type": "execute_result"
    }
   ],
   "source": [
    "model.fit(x_train, y_train, \n",
    "          epochs=EPOCHS, \n",
    "          batch_size=BATCH_SIZE, \n",
    "          validation_data=(x_test, y_test), \n",
    "          shuffle=True)"
   ]
  },
  {
   "cell_type": "code",
   "execution_count": 24,
   "metadata": {},
   "outputs": [
    {
     "data": {
      "image/png": "[encoded data removed]",
      "text/plain": [
       "<Figure size 432x288 with 1 Axes>"
      ]
     },
     "metadata": {},
     "output_type": "display_data"
    },
    {
     "data": {
      "image/png": "[encoded data removed]",
      "text/plain": [
       "<Figure size 432x288 with 1 Axes>"
      ]
     },
     "metadata": {},
     "output_type": "display_data"
    }
   ],
   "source": [
    "import matplotlib.pyplot as plt\n",
    "\n",
    "\n",
    "train_loss = model.history.history[\"loss\"]\n",
    "valid_loss = model.history.history[\"val_loss\"]\n",
    "\n",
    "train_acc = model.history.history[\"acc\"]\n",
    "valid_acc = model.history.history[\"val_acc\"]\n",
    "\n",
    "plt.plot(range(len(train_loss)), train_loss, label=\"train loss\")\n",
    "plt.plot(range(len(valid_loss)), valid_loss, label=\"valid loss\")\n",
    "plt.legend()\n",
    "plt.title(\"Loss\")\n",
    "plt.show()\n",
    "\n",
    "plt.plot(range(len(train_acc)), train_acc, label=\"train accuracy\")\n",
    "plt.plot(range(len(valid_acc)), valid_acc, label=\"valid accuracy\")\n",
    "plt.legend()\n",
    "plt.title(\"Accuracy\")\n",
    "plt.show()"
   ]
  },
  {
   "cell_type": "code",
   "execution_count": null,
   "metadata": {},
   "outputs": [],
   "source": []
  }
 ],
 "metadata": {
  "kernelspec": {
   "display_name": "Python 3",
   "language": "python",
   "name": "python3"
  },
  "language_info": {
   "codemirror_mode": {
    "name": "ipython",
    "version": 3
   },
   "file_extension": ".py",
   "mimetype": "text/x-python",
   "name": "python",
   "nbconvert_exporter": "python",
   "pygments_lexer": "ipython3",
   "version": "3.5.5"
  }
 },
 "nbformat": 4,
 "nbformat_minor": 2
}
