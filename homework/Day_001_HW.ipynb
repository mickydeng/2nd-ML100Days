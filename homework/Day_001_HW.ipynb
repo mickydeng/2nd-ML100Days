{
 "cells": [
  {
   "cell_type": "markdown",
   "metadata": {},
   "source": [
    "## HW1:\n",
    "#### Kaggle Dataset: MLB Pitch Data 2015-2018\n",
    "1.為什麼這個問題重要？ Ans:各聯盟球隊進行交易前，能更全面評估球員價值，找到對的球員。<br />\n",
    "2.資料從何而來? Ans:MLB官網上採集 (http://gd2.mlb.com/components/game/mlb/)<br />\n",
    "3.資料的型態是什什麼？Ans:結構化的數值及表格 <br />\n",
    "4.我們可以回答什什麼問題？問題:指標 <br />\n",
    "Ans:<br />\n",
    "-分類問題: 球員是否具交易價值、打擊者(投手)對左投或右投(右打)打擊率(使出局數)好、球員是否優於平均表現...等。<br />\n",
    "-回歸問題: 打擊率或ERA預測、全壘打數預測....等。<br />\n"
   ]
  },
  {
   "cell_type": "markdown",
   "metadata": {},
   "source": [
    "## HW2:\n",
    "\n",
    "1.核心問題為何? Ans:車隊公司甚多，提供的服務大同小異，另外司機多集中在都市或交通要道。因此如何增進客戶乘車體驗，並減少偏遠地區客戶等車時間會是助於提升業績的指標。 <br/>\n",
    "2.資料從何而來? Ans:在自家叫車App增加\"搭乘目的(出差/返鄉/聚會....)\"欄位蒐集資料，日後依客戶的目的在椅背螢幕顯示相關的推播，增加乘車體驗。另外也記錄偏遠地區乘客搭車的地點，進一步預測分析需加強司機駐點處。<br/>\n",
    "3.蒐集而來的資料型態為? Ans:叫車app上的資料經由後台整理成結構化的數值及表格。<br/> \n",
    "4.你要回答的問題，其如何評估?<br/>\n",
    "Ans: <br/> \n",
    "偏遠地區預測載客數量增幅與實際狀況(回歸問題:Mean Squared Error) <br/> \n",
    "客戶乘車體驗滿意度(Accuracy / Receiver Operating Curve) <br/> "
   ]
  },
  {
   "cell_type": "markdown",
   "metadata": {},
   "source": [
    "## HW3: 練習時間\n",
    "#### 請寫一個函式用來計算 Mean Square Error\n",
    "$ MSE = \\frac{1}{n}\\sum_{i=1}^{n}{(Y_i - \\hat{Y}_i)^2} $\n",
    "\n",
    "### Hint: [如何取平方](https://googoodesign.gitbooks.io/-ezpython/unit-1.html)"
   ]
  },
  {
   "cell_type": "code",
   "execution_count": 33,
   "metadata": {},
   "outputs": [],
   "source": [
    "import numpy as np\n",
    "import matplotlib.pyplot as plt\n",
    "import math"
   ]
  },
  {
   "cell_type": "markdown",
   "metadata": {},
   "source": [
    "## Mean Square Error-Method1"
   ]
  },
  {
   "cell_type": "code",
   "execution_count": 34,
   "metadata": {},
   "outputs": [],
   "source": [
    "def mean_squared_error1(y, y_hat):\n",
    "    n=0\n",
    "    b=0\n",
    "    for i in range(0, len(y)):\n",
    "        n += 1\n",
    "        b += (y[i]-y_hat[i])**2\n",
    "    mean_square_error = b/n\n",
    "    return mean_square_error"
   ]
  },
  {
   "cell_type": "markdown",
   "metadata": {},
   "source": [
    "## Mean Square Error-Method2"
   ]
  },
  {
   "cell_type": "code",
   "execution_count": 35,
   "metadata": {},
   "outputs": [],
   "source": [
    "def mean_squared_error2(y, y_hat):\n",
    "    mean_square_error2 = np.square(y-y_hat).mean()\n",
    "    return mean_square_error2"
   ]
  },
  {
   "cell_type": "markdown",
   "metadata": {},
   "source": [
    "## Mean Absolute Error-Method1"
   ]
  },
  {
   "cell_type": "code",
   "execution_count": 36,
   "metadata": {},
   "outputs": [],
   "source": [
    "def mean_absolute_error1(y, y_hat):\n",
    "    n=0\n",
    "    b=0\n",
    "    for i in range(0, len(y)):\n",
    "        n += 1\n",
    "        b += np.abs(y[i]-y_hat[i])\n",
    "    mean_absolute_error = b/n\n",
    "    return mean_absolute_error"
   ]
  },
  {
   "cell_type": "markdown",
   "metadata": {},
   "source": [
    "## Mean Absolute Error-Method2"
   ]
  },
  {
   "cell_type": "code",
   "execution_count": 37,
   "metadata": {},
   "outputs": [],
   "source": [
    "def mean_absolute_error2(y, y_hat):\n",
    "    mean_absolute_error = np.abs(y-y_hat).mean()\n",
    "    return mean_absolute_error"
   ]
  },
  {
   "cell_type": "code",
   "execution_count": 38,
   "metadata": {},
   "outputs": [
    {
     "data": {
      "image/png": "[encoded data removed]",
      "text/plain": [
       "<Figure size 432x288 with 1 Axes>"
      ]
     },
     "metadata": {},
     "output_type": "display_data"
    }
   ],
   "source": [
    "w = 3\n",
    "b = 0.5\n",
    "\n",
    "x_lin = np.linspace(0, 100, 101)\n",
    "\n",
    "y = (x_lin + np.random.randn(101) * 5) * w + b\n",
    "\n",
    "plt.plot(x_lin, y, 'b.', label = 'data points')\n",
    "plt.title(\"Assume we have data points\")\n",
    "plt.legend(loc = 2)\n",
    "plt.show()"
   ]
  },
  {
   "cell_type": "code",
   "execution_count": 39,
   "metadata": {},
   "outputs": [
    {
     "data": {
      "image/png": "[encoded data removed]",
      "text/plain": [
       "<Figure size 432x288 with 1 Axes>"
      ]
     },
     "metadata": {},
     "output_type": "display_data"
    }
   ],
   "source": [
    "y_hat = x_lin * w + b\n",
    "plt.plot(x_lin, y, 'b.', label = 'data')\n",
    "plt.plot(x_lin, y_hat, 'r-', label = 'prediction')\n",
    "plt.title(\"Assume we have data points (And the prediction)\")\n",
    "plt.legend(loc = 2)\n",
    "plt.show()"
   ]
  },
  {
   "cell_type": "code",
   "execution_count": 40,
   "metadata": {},
   "outputs": [
    {
     "name": "stdout",
     "output_type": "stream",
     "text": [
      "The Mean squared error is 239.011\n",
      "The Mean absolute error is 12.284\n"
     ]
    }
   ],
   "source": [
    "# 執行 Function, 確認有沒有正常執行\n",
    "MSE = mean_squared_error1(y, y_hat)\n",
    "MAE = mean_absolute_error1(y, y_hat)\n",
    "print(\"The Mean squared error is %.3f\" % (MSE))\n",
    "print(\"The Mean absolute error is %.3f\" % (MAE))"
   ]
  }
 ],
 "metadata": {
  "anaconda-cloud": {},
  "kernelspec": {
   "display_name": "Python 3",
   "language": "python",
   "name": "python3"
  },
  "language_info": {
   "codemirror_mode": {
    "name": "ipython",
    "version": 3
   },
   "file_extension": ".py",
   "mimetype": "text/x-python",
   "name": "python",
   "nbconvert_exporter": "python",
   "pygments_lexer": "ipython3",
   "version": "3.5.5"
  }
 },
 "nbformat": 4,
 "nbformat_minor": 1
}
