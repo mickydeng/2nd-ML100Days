{
 "cells": [
  {
   "cell_type": "markdown",
   "metadata": {},
   "source": [
    "## Work\n",
    "1. 請嘗試將 preproc_x 替換成以每筆資料的 min/max 進行標準化至 -1 ~ 1 間，再進行訓練\n",
    "2. 請嘗試將 mlp 疊更深 (e.g 5~10 層)，進行訓練後觀察 learning curve 的走勢\n",
    "3. (optional) 請改用 GPU 進行訓練 (如果你有 GPU 的話)，比較使用 CPU 與 GPU 的訓練速度"
   ]
  },
  {
   "cell_type": "code",
   "execution_count": 1,
   "metadata": {},
   "outputs": [],
   "source": [
    "## \n",
    "\"\"\"\n",
    "Your code here (optional)\n",
    "確認硬體資源\n",
    "\"\"\"\n"
   ]
  },
  {
   "cell_type": "code",
   "execution_count": 2,
   "metadata": {},
   "outputs": [
    {
     "name": "stderr",
     "output_type": "stream",
     "text": [
      "Using TensorFlow backend.\n"
     ]
    }
   ],
   "source": [
    "import os\n",
    "import keras\n",
    "\n",
    "# 請嘗試設定 GPU：os.environ\n",
    "os.environ[\"CUDA_VISIBLE_DEVICES\"] = \"0\""
   ]
  },
  {
   "cell_type": "code",
   "execution_count": 3,
   "metadata": {},
   "outputs": [],
   "source": [
    "train, test = keras.datasets.cifar10.load_data()"
   ]
  },
  {
   "cell_type": "code",
   "execution_count": 6,
   "metadata": {},
   "outputs": [],
   "source": [
    "## 資料前處理\n",
    "\"\"\"\n",
    "Your code here\n",
    "\"\"\"\n",
    "def preproc_x(x, flatten=True):\n",
    "    x = x/255\n",
    "    if flatten:\n",
    "        x = x.reshape(len(x),-1)\n",
    "    return x\n",
    "\n",
    "def preproc_y(y, num_classes=10):\n",
    "    if y.shape[-1] == 1:\n",
    "        y = keras.utils.to_categorical(y, num_classes)\n",
    "    return y    "
   ]
  },
  {
   "cell_type": "code",
   "execution_count": 7,
   "metadata": {},
   "outputs": [],
   "source": [
    "x_train, y_train = train\n",
    "x_test, y_test = test\n",
    "\n",
    "# Preproc the inputs\n",
    "x_train = preproc_x(x_train)\n",
    "x_test = preproc_x(x_test)\n",
    "\n",
    "# Preprc the outputs\n",
    "y_train = preproc_y(y_train)\n",
    "y_test = preproc_y(y_test)"
   ]
  },
  {
   "cell_type": "code",
   "execution_count": 11,
   "metadata": {},
   "outputs": [
    {
     "name": "stdout",
     "output_type": "stream",
     "text": [
      "_________________________________________________________________\n",
      "Layer (type)                 Output Shape              Param #   \n",
      "=================================================================\n",
      "input_1 (InputLayer)         (None, 3072)              0         \n",
      "_________________________________________________________________\n",
      "hidden_layer1 (Dense)        (None, 512)               1573376   \n",
      "_________________________________________________________________\n",
      "hidden_layer2 (Dense)        (None, 256)               131328    \n",
      "_________________________________________________________________\n",
      "hidden_layer3 (Dense)        (None, 128)               32896     \n",
      "_________________________________________________________________\n",
      "hidden_layer4 (Dense)        (None, 64)                8256      \n",
      "_________________________________________________________________\n",
      "hidden_layer5 (Dense)        (None, 32)                2080      \n",
      "_________________________________________________________________\n",
      "hidden_layer6 (Dense)        (None, 16)                528       \n",
      "_________________________________________________________________\n",
      "output (Dense)               (None, 10)                170       \n",
      "=================================================================\n",
      "Total params: 1,748,634\n",
      "Trainable params: 1,748,634\n",
      "Non-trainable params: 0\n",
      "_________________________________________________________________\n"
     ]
    }
   ],
   "source": [
    "def build_mlp(input_shape, output_units=10, num_neurons=[512, 256, 128, 64, 32, 16]):\n",
    "    input_layer = keras.layers.Input(input_shape)\n",
    "    \n",
    "    for i, n_units in enumerate(num_neurons):\n",
    "        if i == 0:\n",
    "            x = keras.layers.Dense(units=n_units, activation=\"relu\", name=\"hidden_layer\"+str(i+1))(input_layer)\n",
    "        else:\n",
    "            x = keras.layers.Dense(units=n_units, activation=\"relu\", name=\"hidden_layer\"+str(i+1))(x)\n",
    "    \n",
    "    out = keras.layers.Dense(units=output_units, activation=\"softmax\", name=\"output\")(x)\n",
    "    \n",
    "    model = keras.models.Model(inputs=[input_layer], outputs=[out])\n",
    "    return model\n",
    "\n",
    "model = build_mlp(input_shape=x_train.shape[1:])\n",
    "model.summary()"
   ]
  },
  {
   "cell_type": "code",
   "execution_count": 12,
   "metadata": {},
   "outputs": [],
   "source": [
    "## 超參數設定\n",
    "LEARNING_RATE = 0.001\n",
    "EPOCHS = 100\n",
    "BATCH_SIZE = 256"
   ]
  },
  {
   "cell_type": "code",
   "execution_count": 13,
   "metadata": {},
   "outputs": [],
   "source": [
    "optimizer = keras.optimizers.Adam(lr=LEARNING_RATE)\n",
    "model.compile(loss=\"categorical_crossentropy\", metrics=[\"accuracy\"], optimizer=optimizer)"
   ]
  },
  {
   "cell_type": "code",
   "execution_count": 14,
   "metadata": {},
   "outputs": [
    {
     "name": "stdout",
     "output_type": "stream",
     "text": [
      "Train on 50000 samples, validate on 10000 samples\n",
      "Epoch 1/100\n",
      "50000/50000 [==============================] - 19s 380us/step - loss: 2.3028 - acc: 0.1049 - val_loss: 2.3026 - val_acc: 0.1000\n",
      "Epoch 2/100\n",
      "50000/50000 [==============================] - 9s 187us/step - loss: 2.3027 - acc: 0.0946 - val_loss: 2.3026 - val_acc: 0.1000- loss: 2.3027 - acc: 0. - ETA: 0s - loss: 2.3027 - acc: 0\n",
      "Epoch 3/100\n",
      "50000/50000 [==============================] - 10s 201us/step - loss: 2.3027 - acc: 0.0972 - val_loss: 2.3026 - val_acc: 0.1000\n",
      "Epoch 4/100\n",
      "50000/50000 [==============================] - 9s 178us/step - loss: 2.3027 - acc: 0.0981 - val_loss: 2.3026 - val_acc: 0.1000\n",
      "Epoch 5/100\n",
      "50000/50000 [==============================] - 9s 174us/step - loss: 2.3027 - acc: 0.0987 - val_loss: 2.3026 - val_acc: 0.1000\n",
      "Epoch 6/100\n",
      "50000/50000 [==============================] - 9s 183us/step - loss: 2.3027 - acc: 0.0988 - val_loss: 2.3026 - val_acc: 0.1000\n",
      "Epoch 7/100\n",
      "50000/50000 [==============================] - 8s 165us/step - loss: 2.3027 - acc: 0.0974 - val_loss: 2.3026 - val_acc: 0.1000\n",
      "Epoch 8/100\n",
      "50000/50000 [==============================] - 8s 165us/step - loss: 2.3027 - acc: 0.0984 - val_loss: 2.3026 - val_acc: 0.1000\n",
      "Epoch 9/100\n",
      "50000/50000 [==============================] - 8s 167us/step - loss: 2.3027 - acc: 0.0967 - val_loss: 2.3026 - val_acc: 0.1000\n",
      "Epoch 10/100\n",
      "50000/50000 [==============================] - 8s 165us/step - loss: 2.3027 - acc: 0.0988 - val_loss: 2.3026 - val_acc: 0.1000\n",
      "Epoch 11/100\n",
      "50000/50000 [==============================] - 9s 171us/step - loss: 2.3026 - acc: 0.0991 - val_loss: 2.3026 - val_acc: 0.1000\n",
      "Epoch 12/100\n",
      "50000/50000 [==============================] - 8s 165us/step - loss: 2.3026 - acc: 0.0983 - val_loss: 2.3026 - val_acc: 0.1000\n",
      "Epoch 13/100\n",
      "50000/50000 [==============================] - 9s 173us/step - loss: 2.3027 - acc: 0.0961 - val_loss: 2.3026 - val_acc: 0.1000\n",
      "Epoch 14/100\n",
      "50000/50000 [==============================] - 10s 197us/step - loss: 2.3027 - acc: 0.0964 - val_loss: 2.3026 - val_acc: 0.1000\n",
      "Epoch 15/100\n",
      "50000/50000 [==============================] - 10s 195us/step - loss: 2.3027 - acc: 0.0977 - val_loss: 2.3026 - val_acc: 0.1000\n",
      "Epoch 16/100\n",
      "50000/50000 [==============================] - 9s 178us/step - loss: 2.3027 - acc: 0.0977 - val_loss: 2.3026 - val_acc: 0.1000\n",
      "Epoch 17/100\n",
      "50000/50000 [==============================] - 10s 199us/step - loss: 2.3027 - acc: 0.0956 - val_loss: 2.3026 - val_acc: 0.1000\n",
      "Epoch 18/100\n",
      "50000/50000 [==============================] - 9s 170us/step - loss: 2.3027 - acc: 0.0975 - val_loss: 2.3026 - val_acc: 0.1000\n",
      "Epoch 19/100\n",
      "50000/50000 [==============================] - 8s 166us/step - loss: 2.3027 - acc: 0.0984 - val_loss: 2.3026 - val_acc: 0.1000\n",
      "Epoch 20/100\n",
      "50000/50000 [==============================] - 8s 167us/step - loss: 2.3027 - acc: 0.0969 - val_loss: 2.3026 - val_acc: 0.1000\n",
      "Epoch 21/100\n",
      "50000/50000 [==============================] - 8s 165us/step - loss: 2.3027 - acc: 0.0970 - val_loss: 2.3026 - val_acc: 0.1000\n",
      "Epoch 22/100\n",
      "50000/50000 [==============================] - 8s 167us/step - loss: 2.3027 - acc: 0.0988 - val_loss: 2.3026 - val_acc: 0.1000\n",
      "Epoch 23/100\n",
      "50000/50000 [==============================] - 8s 167us/step - loss: 2.3027 - acc: 0.0986 - val_loss: 2.3026 - val_acc: 0.1000\n",
      "Epoch 24/100\n",
      "50000/50000 [==============================] - 8s 165us/step - loss: 2.3027 - acc: 0.0975 - val_loss: 2.3026 - val_acc: 0.1000\n",
      "Epoch 25/100\n",
      "50000/50000 [==============================] - 9s 172us/step - loss: 2.3027 - acc: 0.0979 - val_loss: 2.3026 - val_acc: 0.1000\n",
      "Epoch 26/100\n",
      "50000/50000 [==============================] - 9s 185us/step - loss: 2.3027 - acc: 0.0978 - val_loss: 2.3026 - val_acc: 0.1000\n",
      "Epoch 27/100\n",
      "50000/50000 [==============================] - 9s 184us/step - loss: 2.3027 - acc: 0.0960 - val_loss: 2.3026 - val_acc: 0.1000\n",
      "Epoch 28/100\n",
      "50000/50000 [==============================] - 8s 167us/step - loss: 2.3027 - acc: 0.0978 - val_loss: 2.3026 - val_acc: 0.1000\n",
      "Epoch 29/100\n",
      "50000/50000 [==============================] - 8s 166us/step - loss: 2.3027 - acc: 0.0994 - val_loss: 2.3026 - val_acc: 0.1000\n",
      "Epoch 30/100\n",
      "50000/50000 [==============================] - 8s 166us/step - loss: 2.3027 - acc: 0.0970 - val_loss: 2.3026 - val_acc: 0.1000\n",
      "Epoch 31/100\n",
      "50000/50000 [==============================] - 8s 166us/step - loss: 2.3027 - acc: 0.0982 - val_loss: 2.3026 - val_acc: 0.1000\n",
      "Epoch 32/100\n",
      "50000/50000 [==============================] - 8s 166us/step - loss: 2.3027 - acc: 0.0976 - val_loss: 2.3026 - val_acc: 0.1000\n",
      "Epoch 33/100\n",
      "50000/50000 [==============================] - 8s 166us/step - loss: 2.3027 - acc: 0.0959 - val_loss: 2.3026 - val_acc: 0.1000\n",
      "Epoch 34/100\n",
      "50000/50000 [==============================] - 8s 167us/step - loss: 2.3027 - acc: 0.0984 - val_loss: 2.3026 - val_acc: 0.1000\n",
      "Epoch 35/100\n",
      "50000/50000 [==============================] - 8s 165us/step - loss: 2.3027 - acc: 0.0984 - val_loss: 2.3026 - val_acc: 0.1000\n",
      "Epoch 36/100\n",
      "50000/50000 [==============================] - 8s 166us/step - loss: 2.3026 - acc: 0.0979 - val_loss: 2.3026 - val_acc: 0.1000\n",
      "Epoch 37/100\n",
      "50000/50000 [==============================] - 9s 178us/step - loss: 2.3027 - acc: 0.0992 - val_loss: 2.3026 - val_acc: 0.1000\n",
      "Epoch 38/100\n",
      "50000/50000 [==============================] - 10s 199us/step - loss: 2.3027 - acc: 0.0967 - val_loss: 2.3026 - val_acc: 0.1000\n",
      "Epoch 39/100\n",
      "50000/50000 [==============================] - 9s 184us/step - loss: 2.3027 - acc: 0.0979 - val_loss: 2.3026 - val_acc: 0.1000 1s - loss: 2.3026\n",
      "Epoch 40/100\n",
      "50000/50000 [==============================] - 9s 173us/step - loss: 2.3027 - acc: 0.0987 - val_loss: 2.3026 - val_acc: 0.1000\n",
      "Epoch 41/100\n",
      "50000/50000 [==============================] - 10s 207us/step - loss: 2.3027 - acc: 0.0978 - val_loss: 2.3026 - val_acc: 0.1000\n",
      "Epoch 42/100\n",
      "50000/50000 [==============================] - 9s 172us/step - loss: 2.3027 - acc: 0.0974 - val_loss: 2.3026 - val_acc: 0.1000\n",
      "Epoch 43/100\n",
      "50000/50000 [==============================] - 9s 174us/step - loss: 2.3027 - acc: 0.0963 - val_loss: 2.3026 - val_acc: 0.1000\n",
      "Epoch 44/100\n",
      "50000/50000 [==============================] - 8s 168us/step - loss: 2.3027 - acc: 0.0966 - val_loss: 2.3026 - val_acc: 0.1000\n",
      "Epoch 45/100\n",
      "50000/50000 [==============================] - 8s 165us/step - loss: 2.3027 - acc: 0.0974 - val_loss: 2.3026 - val_acc: 0.1000\n",
      "Epoch 46/100\n",
      "50000/50000 [==============================] - 8s 166us/step - loss: 2.3027 - acc: 0.0992 - val_loss: 2.3026 - val_acc: 0.1000\n",
      "Epoch 47/100\n",
      "50000/50000 [==============================] - 8s 168us/step - loss: 2.3027 - acc: 0.0983 - val_loss: 2.3026 - val_acc: 0.1000\n",
      "Epoch 48/100\n",
      "50000/50000 [==============================] - 9s 170us/step - loss: 2.3027 - acc: 0.0989 - val_loss: 2.3026 - val_acc: 0.1000\n",
      "Epoch 49/100\n",
      "50000/50000 [==============================] - 10s 195us/step - loss: 2.3027 - acc: 0.0971 - val_loss: 2.3026 - val_acc: 0.1000\n",
      "Epoch 50/100\n",
      "50000/50000 [==============================] - 8s 170us/step - loss: 2.3027 - acc: 0.1002 - val_loss: 2.3026 - val_acc: 0.1000\n",
      "Epoch 51/100\n",
      "50000/50000 [==============================] - 8s 165us/step - loss: 2.3027 - acc: 0.0975 - val_loss: 2.3026 - val_acc: 0.1000\n",
      "Epoch 52/100\n",
      "50000/50000 [==============================] - 8s 166us/step - loss: 2.3027 - acc: 0.0992 - val_loss: 2.3026 - val_acc: 0.1000\n",
      "Epoch 53/100\n",
      "50000/50000 [==============================] - 8s 167us/step - loss: 2.3027 - acc: 0.0985 - val_loss: 2.3026 - val_acc: 0.1000\n",
      "Epoch 54/100\n",
      "50000/50000 [==============================] - 8s 166us/step - loss: 2.3027 - acc: 0.0967 - val_loss: 2.3026 - val_acc: 0.1000\n",
      "Epoch 55/100\n",
      "50000/50000 [==============================] - 8s 165us/step - loss: 2.3027 - acc: 0.0987 - val_loss: 2.3026 - val_acc: 0.1000\n",
      "Epoch 56/100\n",
      "50000/50000 [==============================] - 8s 165us/step - loss: 2.3027 - acc: 0.0976 - val_loss: 2.3026 - val_acc: 0.1000\n",
      "Epoch 57/100\n",
      "50000/50000 [==============================] - 8s 165us/step - loss: 2.3026 - acc: 0.0983 - val_loss: 2.3026 - val_acc: 0.1000\n",
      "Epoch 58/100\n"
     ]
    },
    {
     "name": "stdout",
     "output_type": "stream",
     "text": [
      "50000/50000 [==============================] - 8s 165us/step - loss: 2.3027 - acc: 0.0996 - val_loss: 2.3026 - val_acc: 0.1000\n",
      "Epoch 59/100\n",
      "50000/50000 [==============================] - 8s 164us/step - loss: 2.3027 - acc: 0.0968 - val_loss: 2.3026 - val_acc: 0.1000\n",
      "Epoch 60/100\n",
      "50000/50000 [==============================] - 9s 171us/step - loss: 2.3027 - acc: 0.0979 - val_loss: 2.3026 - val_acc: 0.1000\n",
      "Epoch 61/100\n",
      "50000/50000 [==============================] - 9s 177us/step - loss: 2.3027 - acc: 0.0980 - val_loss: 2.3026 - val_acc: 0.1000\n",
      "Epoch 62/100\n",
      "50000/50000 [==============================] - 8s 165us/step - loss: 2.3027 - acc: 0.0988 - val_loss: 2.3026 - val_acc: 0.1000\n",
      "Epoch 63/100\n",
      "50000/50000 [==============================] - 8s 166us/step - loss: 2.3027 - acc: 0.0995 - val_loss: 2.3026 - val_acc: 0.1000\n",
      "Epoch 64/100\n",
      "50000/50000 [==============================] - 8s 164us/step - loss: 2.3027 - acc: 0.0973 - val_loss: 2.3026 - val_acc: 0.1000\n",
      "Epoch 65/100\n",
      "50000/50000 [==============================] - 8s 166us/step - loss: 2.3027 - acc: 0.0987 - val_loss: 2.3026 - val_acc: 0.1000\n",
      "Epoch 66/100\n",
      "50000/50000 [==============================] - 8s 164us/step - loss: 2.3027 - acc: 0.0978 - val_loss: 2.3026 - val_acc: 0.1000\n",
      "Epoch 67/100\n",
      "50000/50000 [==============================] - 8s 164us/step - loss: 2.3027 - acc: 0.0982 - val_loss: 2.3026 - val_acc: 0.1000\n",
      "Epoch 68/100\n",
      "50000/50000 [==============================] - 8s 167us/step - loss: 2.3027 - acc: 0.0979 - val_loss: 2.3026 - val_acc: 0.1000\n",
      "Epoch 69/100\n",
      "50000/50000 [==============================] - 8s 169us/step - loss: 2.3027 - acc: 0.0972 - val_loss: 2.3026 - val_acc: 0.1000\n",
      "Epoch 70/100\n",
      "50000/50000 [==============================] - 9s 175us/step - loss: 2.3027 - acc: 0.0968 - val_loss: 2.3026 - val_acc: 0.1000\n",
      "Epoch 71/100\n",
      "50000/50000 [==============================] - 8s 169us/step - loss: 2.3027 - acc: 0.0976 - val_loss: 2.3026 - val_acc: 0.1000\n",
      "Epoch 72/100\n",
      "50000/50000 [==============================] - 9s 183us/step - loss: 2.3027 - acc: 0.0993 - val_loss: 2.3026 - val_acc: 0.1000\n",
      "Epoch 73/100\n",
      "50000/50000 [==============================] - 9s 177us/step - loss: 2.3027 - acc: 0.0989 - val_loss: 2.3026 - val_acc: 0.1000\n",
      "Epoch 74/100\n",
      "50000/50000 [==============================] - 8s 164us/step - loss: 2.3026 - acc: 0.0993 - val_loss: 2.3026 - val_acc: 0.1000\n",
      "Epoch 75/100\n",
      "50000/50000 [==============================] - 8s 164us/step - loss: 2.3027 - acc: 0.0993 - val_loss: 2.3026 - val_acc: 0.1000\n",
      "Epoch 76/100\n",
      "50000/50000 [==============================] - 8s 165us/step - loss: 2.3027 - acc: 0.0966 - val_loss: 2.3026 - val_acc: 0.1000\n",
      "Epoch 77/100\n",
      "50000/50000 [==============================] - 8s 168us/step - loss: 2.3027 - acc: 0.0983 - val_loss: 2.3026 - val_acc: 0.1000\n",
      "Epoch 78/100\n",
      "50000/50000 [==============================] - 8s 164us/step - loss: 2.3027 - acc: 0.0976 - val_loss: 2.3026 - val_acc: 0.1000\n",
      "Epoch 79/100\n",
      "50000/50000 [==============================] - 8s 166us/step - loss: 2.3027 - acc: 0.0978 - val_loss: 2.3026 - val_acc: 0.1000\n",
      "Epoch 80/100\n",
      "50000/50000 [==============================] - 8s 164us/step - loss: 2.3026 - acc: 0.0992 - val_loss: 2.3026 - val_acc: 0.1000\n",
      "Epoch 81/100\n",
      "50000/50000 [==============================] - 8s 164us/step - loss: 2.3027 - acc: 0.0956 - val_loss: 2.3026 - val_acc: 0.1000\n",
      "Epoch 82/100\n",
      "50000/50000 [==============================] - 8s 165us/step - loss: 2.3027 - acc: 0.0980 - val_loss: 2.3026 - val_acc: 0.1000\n",
      "Epoch 83/100\n",
      "50000/50000 [==============================] - 9s 184us/step - loss: 2.3027 - acc: 0.0972 - val_loss: 2.3026 - val_acc: 0.1000\n",
      "Epoch 84/100\n",
      "50000/50000 [==============================] - 11s 218us/step - loss: 2.3026 - acc: 0.0984 - val_loss: 2.3026 - val_acc: 0.1000- acc - ETA: 0s - loss: 2.3027\n",
      "Epoch 85/100\n",
      "50000/50000 [==============================] - 12s 232us/step - loss: 2.3027 - acc: 0.0974 - val_loss: 2.3026 - val_acc: 0.1000\n",
      "Epoch 86/100\n",
      "50000/50000 [==============================] - 10s 194us/step - loss: 2.3027 - acc: 0.0987 - val_loss: 2.3026 - val_acc: 0.1000\n",
      "Epoch 87/100\n",
      "50000/50000 [==============================] - 10s 195us/step - loss: 2.3027 - acc: 0.0975 - val_loss: 2.3026 - val_acc: 0.1000\n",
      "Epoch 88/100\n",
      "50000/50000 [==============================] - 8s 163us/step - loss: 2.3027 - acc: 0.0959 - val_loss: 2.3026 - val_acc: 0.1000\n",
      "Epoch 89/100\n",
      "50000/50000 [==============================] - 8s 167us/step - loss: 2.3027 - acc: 0.0981 - val_loss: 2.3026 - val_acc: 0.1000\n",
      "Epoch 90/100\n",
      "50000/50000 [==============================] - 8s 164us/step - loss: 2.3027 - acc: 0.0975 - val_loss: 2.3026 - val_acc: 0.1000\n",
      "Epoch 91/100\n",
      "50000/50000 [==============================] - 9s 177us/step - loss: 2.3027 - acc: 0.0971 - val_loss: 2.3026 - val_acc: 0.1000\n",
      "Epoch 92/100\n",
      "50000/50000 [==============================] - 9s 172us/step - loss: 2.3027 - acc: 0.0974 - val_loss: 2.3026 - val_acc: 0.1000\n",
      "Epoch 93/100\n",
      "50000/50000 [==============================] - 8s 169us/step - loss: 2.3027 - acc: 0.0975 - val_loss: 2.3026 - val_acc: 0.1000\n",
      "Epoch 94/100\n",
      "50000/50000 [==============================] - 9s 170us/step - loss: 2.3027 - acc: 0.0995 - val_loss: 2.3026 - val_acc: 0.1000\n",
      "Epoch 95/100\n",
      "50000/50000 [==============================] - 10s 193us/step - loss: 2.3027 - acc: 0.0988 - val_loss: 2.3026 - val_acc: 0.1000\n",
      "Epoch 96/100\n",
      "50000/50000 [==============================] - 10s 191us/step - loss: 2.3027 - acc: 0.0976 - val_loss: 2.3026 - val_acc: 0.1000\n",
      "Epoch 97/100\n",
      "50000/50000 [==============================] - 9s 174us/step - loss: 2.3027 - acc: 0.0979 - val_loss: 2.3026 - val_acc: 0.1000\n",
      "Epoch 98/100\n",
      "50000/50000 [==============================] - 8s 167us/step - loss: 2.3027 - acc: 0.0960 - val_loss: 2.3026 - val_acc: 0.1000\n",
      "Epoch 99/100\n",
      "50000/50000 [==============================] - 9s 176us/step - loss: 2.3027 - acc: 0.0983 - val_loss: 2.3026 - val_acc: 0.1000\n",
      "Epoch 100/100\n",
      "50000/50000 [==============================] - 8s 168us/step - loss: 2.3027 - acc: 0.0974 - val_loss: 2.3026 - val_acc: 0.1000\n"
     ]
    },
    {
     "data": {
      "text/plain": [
       "<keras.callbacks.History at 0x20930655dd8>"
      ]
     },
     "execution_count": 14,
     "metadata": {},
     "output_type": "execute_result"
    }
   ],
   "source": [
    "model.fit(x_train, y_train, \n",
    "          epochs=EPOCHS, \n",
    "          batch_size=BATCH_SIZE, \n",
    "          validation_data=(x_test, y_test), \n",
    "          shuffle=True)"
   ]
  },
  {
   "cell_type": "code",
   "execution_count": 16,
   "metadata": {},
   "outputs": [
    {
     "data": {
      "image/png": "[encoded data removed]",
      "text/plain": [
       "<Figure size 432x288 with 1 Axes>"
      ]
     },
     "metadata": {},
     "output_type": "display_data"
    },
    {
     "data": {
      "image/png": "[encoded data removed]",
      "text/plain": [
       "<Figure size 432x288 with 1 Axes>"
      ]
     },
     "metadata": {},
     "output_type": "display_data"
    }
   ],
   "source": [
    "import matplotlib.pyplot as plt\n",
    "\n",
    "\n",
    "train_loss = model.history.history[\"loss\"]\n",
    "valid_loss = model.history.history[\"val_loss\"]\n",
    "\n",
    "train_acc = model.history.history[\"acc\"]\n",
    "valid_acc = model.history.history[\"val_acc\"]\n",
    "\n",
    "plt.plot(range(len(train_loss)), train_loss, label=\"train loss\")\n",
    "plt.plot(range(len(valid_loss)), valid_loss, label=\"valid loss\")\n",
    "plt.legend()\n",
    "plt.title(\"Loss\")\n",
    "plt.show()\n",
    "\n",
    "plt.plot(range(len(train_acc)), train_acc, label=\"train accuracy\")\n",
    "plt.plot(range(len(valid_acc)), valid_acc, label=\"valid accuracy\")\n",
    "plt.legend()\n",
    "plt.title(\"Accuracy\")\n",
    "plt.show()"
   ]
  },
  {
   "cell_type": "code",
   "execution_count": null,
   "metadata": {},
   "outputs": [],
   "source": []
  }
 ],
 "metadata": {
  "kernelspec": {
   "display_name": "Python 3",
   "language": "python",
   "name": "python3"
  },
  "language_info": {
   "codemirror_mode": {
    "name": "ipython",
    "version": 3
   },
   "file_extension": ".py",
   "mimetype": "text/x-python",
   "name": "python",
   "nbconvert_exporter": "python",
   "pygments_lexer": "ipython3",
   "version": "3.5.5"
  }
 },
 "nbformat": 4,
 "nbformat_minor": 2
}
