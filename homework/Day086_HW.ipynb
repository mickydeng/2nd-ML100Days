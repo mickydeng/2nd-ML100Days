{
 "cells": [
  {
   "cell_type": "markdown",
   "metadata": {},
   "source": [
    "## Work\n",
    "1. 試比較 save_best_only 與否的差異\n",
    "2. 請僅存入將 save_weights_only 設定為 True, 並嘗試 reset ipynb 並將模型與權重重新建回並預測 x_test"
   ]
  },
  {
   "cell_type": "code",
   "execution_count": 1,
   "metadata": {},
   "outputs": [
    {
     "name": "stderr",
     "output_type": "stream",
     "text": [
      "Using TensorFlow backend.\n"
     ]
    }
   ],
   "source": [
    "import os\n",
    "import keras\n",
    "\n",
    "# Disable GPU\n",
    "os.environ[\"CUDA_VISIBLE_DEVICES\"] = \"0\""
   ]
  },
  {
   "cell_type": "code",
   "execution_count": 2,
   "metadata": {},
   "outputs": [],
   "source": [
    "train, test = keras.datasets.cifar10.load_data()"
   ]
  },
  {
   "cell_type": "code",
   "execution_count": 3,
   "metadata": {},
   "outputs": [],
   "source": [
    "## 資料前處理\n",
    "def preproc_x(x, flatten=True):\n",
    "    x = x / 255.\n",
    "    if flatten:\n",
    "        x = x.reshape((len(x), -1))\n",
    "    return x\n",
    "\n",
    "def preproc_y(y, num_classes=10):\n",
    "    if y.shape[-1] == 1:\n",
    "        y = keras.utils.to_categorical(y, num_classes)\n",
    "    return y    "
   ]
  },
  {
   "cell_type": "code",
   "execution_count": 4,
   "metadata": {},
   "outputs": [],
   "source": [
    "x_train, y_train = train\n",
    "x_test, y_test = test\n",
    "\n",
    "# Preproc the inputs\n",
    "x_train = preproc_x(x_train)\n",
    "x_test = preproc_x(x_test)\n",
    "\n",
    "# Preprc the outputs\n",
    "y_train = preproc_y(y_train)\n",
    "y_test = preproc_y(y_test)"
   ]
  },
  {
   "cell_type": "code",
   "execution_count": 5,
   "metadata": {},
   "outputs": [],
   "source": [
    "from keras.layers import BatchNormalization\n",
    "def build_mlp(input_shape, output_units=10, num_neurons=[512, 256, 128]):\n",
    "    input_layer = keras.layers.Input(input_shape)\n",
    "    \n",
    "    for i, n_units in enumerate(num_neurons):\n",
    "        if i == 0:\n",
    "            x = keras.layers.Dense(units=n_units, \n",
    "                                   activation=\"relu\", \n",
    "                                   name=\"hidden_layer\"+str(i+1))(input_layer)\n",
    "            x = BatchNormalization()(x)\n",
    "        else:\n",
    "            x = keras.layers.Dense(units=n_units, \n",
    "                                   activation=\"relu\", \n",
    "                                   name=\"hidden_layer\"+str(i+1))(x)\n",
    "            x = BatchNormalization()(x)\n",
    "    \n",
    "    out = keras.layers.Dense(units=output_units, activation=\"softmax\", name=\"output\")(x)\n",
    "    \n",
    "    model = keras.models.Model(inputs=[input_layer], outputs=[out])\n",
    "    return model"
   ]
  },
  {
   "cell_type": "code",
   "execution_count": 6,
   "metadata": {},
   "outputs": [],
   "source": [
    "LEARNING_RATE = 1e-3\n",
    "EPOCHS = 50\n",
    "BATCH_SIZE = 1024\n",
    "MOMENTUM = 0.95"
   ]
  },
  {
   "cell_type": "code",
   "execution_count": 7,
   "metadata": {},
   "outputs": [],
   "source": [
    "# 載入 Callbacks\n",
    "from keras.callbacks import ModelCheckpoint\n",
    "\n",
    "model_ckpt = ModelCheckpoint(filepath=\"./tmp.h5\", \n",
    "                             monitor=\"val_loss\", \n",
    "                             save_best_only=True)"
   ]
  },
  {
   "cell_type": "code",
   "execution_count": 15,
   "metadata": {
    "scrolled": true
   },
   "outputs": [
    {
     "name": "stdout",
     "output_type": "stream",
     "text": [
      "_________________________________________________________________\n",
      "Layer (type)                 Output Shape              Param #   \n",
      "=================================================================\n",
      "input_1 (InputLayer)         (None, 3072)              0         \n",
      "_________________________________________________________________\n",
      "hidden_layer1 (Dense)        (None, 512)               1573376   \n",
      "_________________________________________________________________\n",
      "batch_normalization_1 (Batch (None, 512)               2048      \n",
      "_________________________________________________________________\n",
      "hidden_layer2 (Dense)        (None, 256)               131328    \n",
      "_________________________________________________________________\n",
      "batch_normalization_2 (Batch (None, 256)               1024      \n",
      "_________________________________________________________________\n",
      "hidden_layer3 (Dense)        (None, 128)               32896     \n",
      "_________________________________________________________________\n",
      "batch_normalization_3 (Batch (None, 128)               512       \n",
      "_________________________________________________________________\n",
      "output (Dense)               (None, 10)                1290      \n",
      "=================================================================\n",
      "Total params: 1,742,474\n",
      "Trainable params: 1,740,682\n",
      "Non-trainable params: 1,792\n",
      "_________________________________________________________________\n",
      "Train on 50000 samples, validate on 10000 samples\n",
      "Epoch 1/50\n",
      "50000/50000 [==============================] - 15s 291us/step - loss: 2.2316 - acc: 0.2646 - val_loss: 2.1582 - val_acc: 0.3127\n",
      "Epoch 2/50\n",
      "50000/50000 [==============================] - 4s 89us/step - loss: 1.7454 - acc: 0.3918 - val_loss: 1.8003 - val_acc: 0.3838\n",
      "Epoch 3/50\n",
      "50000/50000 [==============================] - 4s 88us/step - loss: 1.6174 - acc: 0.4325 - val_loss: 1.6901 - val_acc: 0.4137\n",
      "Epoch 4/50\n",
      "50000/50000 [==============================] - 4s 87us/step - loss: 1.5450 - acc: 0.4569 - val_loss: 1.6365 - val_acc: 0.4261\n",
      "Epoch 5/50\n",
      "50000/50000 [==============================] - 5s 91us/step - loss: 1.4888 - acc: 0.4783 - val_loss: 1.5801 - val_acc: 0.4480\n",
      "Epoch 6/50\n",
      "50000/50000 [==============================] - 4s 89us/step - loss: 1.4442 - acc: 0.4966 - val_loss: 1.5598 - val_acc: 0.4499\n",
      "Epoch 7/50\n",
      "50000/50000 [==============================] - 4s 89us/step - loss: 1.4037 - acc: 0.5089 - val_loss: 1.5542 - val_acc: 0.4591\n",
      "Epoch 8/50\n",
      "50000/50000 [==============================] - 5s 97us/step - loss: 1.3679 - acc: 0.5227 - val_loss: 1.5174 - val_acc: 0.4717: 0s - loss: 1.3680 - acc: 0.5\n",
      "Epoch 9/50\n",
      "50000/50000 [==============================] - 4s 87us/step - loss: 1.3341 - acc: 0.5354 - val_loss: 1.5184 - val_acc: 0.4698\n",
      "Epoch 10/50\n",
      "50000/50000 [==============================] - 4s 86us/step - loss: 1.3047 - acc: 0.5459 - val_loss: 1.5086 - val_acc: 0.4700\n",
      "Epoch 11/50\n",
      "50000/50000 [==============================] - 4s 86us/step - loss: 1.2778 - acc: 0.5563 - val_loss: 1.4900 - val_acc: 0.4822\n",
      "Epoch 12/50\n",
      "50000/50000 [==============================] - 4s 85us/step - loss: 1.2491 - acc: 0.5674 - val_loss: 1.4802 - val_acc: 0.4771\n",
      "Epoch 13/50\n",
      "50000/50000 [==============================] - 4s 87us/step - loss: 1.2245 - acc: 0.5761 - val_loss: 1.4661 - val_acc: 0.4878\n",
      "Epoch 14/50\n",
      "50000/50000 [==============================] - 4s 90us/step - loss: 1.1982 - acc: 0.5857 - val_loss: 1.4681 - val_acc: 0.4894\n",
      "Epoch 15/50\n",
      "50000/50000 [==============================] - 4s 85us/step - loss: 1.1738 - acc: 0.5966 - val_loss: 1.4758 - val_acc: 0.4852\n",
      "Epoch 16/50\n",
      "50000/50000 [==============================] - 5s 92us/step - loss: 1.1518 - acc: 0.6054 - val_loss: 1.4699 - val_acc: 0.4899\n",
      "Epoch 17/50\n",
      "50000/50000 [==============================] - 5s 94us/step - loss: 1.1284 - acc: 0.6122 - val_loss: 1.4538 - val_acc: 0.4952\n",
      "Epoch 18/50\n",
      "50000/50000 [==============================] - 5s 108us/step - loss: 1.1076 - acc: 0.6213 - val_loss: 1.4502 - val_acc: 0.4916\n",
      "Epoch 19/50\n",
      "50000/50000 [==============================] - 5s 102us/step - loss: 1.0844 - acc: 0.6294 - val_loss: 1.4631 - val_acc: 0.4929\n",
      "Epoch 20/50\n",
      "50000/50000 [==============================] - 4s 87us/step - loss: 1.0627 - acc: 0.6389 - val_loss: 1.4509 - val_acc: 0.4987\n",
      "Epoch 21/50\n",
      "50000/50000 [==============================] - 4s 86us/step - loss: 1.0424 - acc: 0.6456 - val_loss: 1.4443 - val_acc: 0.4996\n",
      "Epoch 22/50\n",
      "50000/50000 [==============================] - 4s 85us/step - loss: 1.0224 - acc: 0.6525 - val_loss: 1.4556 - val_acc: 0.4986\n",
      "Epoch 23/50\n",
      "50000/50000 [==============================] - 4s 85us/step - loss: 0.9997 - acc: 0.6630 - val_loss: 1.4572 - val_acc: 0.4988\n",
      "Epoch 24/50\n",
      "50000/50000 [==============================] - 4s 85us/step - loss: 0.9808 - acc: 0.6695 - val_loss: 1.4541 - val_acc: 0.4994\n",
      "Epoch 25/50\n",
      "50000/50000 [==============================] - 4s 85us/step - loss: 0.9594 - acc: 0.6777 - val_loss: 1.4602 - val_acc: 0.5018\n",
      "Epoch 26/50\n",
      "50000/50000 [==============================] - 4s 85us/step - loss: 0.9389 - acc: 0.6847 - val_loss: 1.4573 - val_acc: 0.5001\n",
      "Epoch 27/50\n",
      "50000/50000 [==============================] - 4s 87us/step - loss: 0.9188 - acc: 0.6952 - val_loss: 1.4617 - val_acc: 0.5048\n",
      "Epoch 28/50\n",
      "50000/50000 [==============================] - 5s 91us/step - loss: 0.8992 - acc: 0.7034 - val_loss: 1.4685 - val_acc: 0.5016\n",
      "Epoch 29/50\n",
      "50000/50000 [==============================] - 4s 86us/step - loss: 0.8801 - acc: 0.7102 - val_loss: 1.4711 - val_acc: 0.4971\n",
      "Epoch 30/50\n",
      "50000/50000 [==============================] - 4s 86us/step - loss: 0.8607 - acc: 0.7175 - val_loss: 1.4721 - val_acc: 0.5039\n",
      "Epoch 31/50\n",
      "50000/50000 [==============================] - 4s 89us/step - loss: 0.8422 - acc: 0.7243 - val_loss: 1.4749 - val_acc: 0.5062\n",
      "Epoch 32/50\n",
      "50000/50000 [==============================] - 4s 85us/step - loss: 0.8239 - acc: 0.7305 - val_loss: 1.4819 - val_acc: 0.5046\n",
      "Epoch 33/50\n",
      "50000/50000 [==============================] - 4s 85us/step - loss: 0.8051 - acc: 0.7386 - val_loss: 1.4921 - val_acc: 0.5015\n",
      "Epoch 34/50\n",
      "50000/50000 [==============================] - 4s 85us/step - loss: 0.7852 - acc: 0.7467 - val_loss: 1.4972 - val_acc: 0.5001\n",
      "Epoch 35/50\n",
      "50000/50000 [==============================] - 4s 85us/step - loss: 0.7655 - acc: 0.7549 - val_loss: 1.5200 - val_acc: 0.4977\n",
      "Epoch 36/50\n",
      "50000/50000 [==============================] - 4s 88us/step - loss: 0.7443 - acc: 0.7631 - val_loss: 1.5150 - val_acc: 0.5012\n",
      "Epoch 37/50\n",
      "50000/50000 [==============================] - 4s 85us/step - loss: 0.7297 - acc: 0.7680 - val_loss: 1.5211 - val_acc: 0.5068\n",
      "Epoch 38/50\n",
      "50000/50000 [==============================] - 4s 90us/step - loss: 0.7104 - acc: 0.7758 - val_loss: 1.5439 - val_acc: 0.4973\n",
      "Epoch 39/50\n",
      "50000/50000 [==============================] - 5s 90us/step - loss: 0.6930 - acc: 0.7824 - val_loss: 1.5451 - val_acc: 0.4963\n",
      "Epoch 40/50\n",
      "50000/50000 [==============================] - 6s 124us/step - loss: 0.6736 - acc: 0.7912 - val_loss: 1.5448 - val_acc: 0.4951\n",
      "Epoch 41/50\n",
      "50000/50000 [==============================] - 5s 100us/step - loss: 0.6542 - acc: 0.7974 - val_loss: 1.5500 - val_acc: 0.5001\n",
      "Epoch 42/50\n",
      "50000/50000 [==============================] - 4s 86us/step - loss: 0.6347 - acc: 0.8053 - val_loss: 1.5750 - val_acc: 0.4924\n",
      "Epoch 43/50\n",
      "50000/50000 [==============================] - 4s 89us/step - loss: 0.6196 - acc: 0.8130 - val_loss: 1.5711 - val_acc: 0.5030\n",
      "Epoch 44/50\n",
      "50000/50000 [==============================] - 4s 88us/step - loss: 0.6016 - acc: 0.8195 - val_loss: 1.5836 - val_acc: 0.4952\n",
      "Epoch 45/50\n",
      "50000/50000 [==============================] - 4s 87us/step - loss: 0.5852 - acc: 0.8253 - val_loss: 1.5998 - val_acc: 0.5029\n",
      "Epoch 46/50\n",
      "50000/50000 [==============================] - 4s 85us/step - loss: 0.5666 - acc: 0.8338 - val_loss: 1.6157 - val_acc: 0.4993\n",
      "Epoch 47/50\n",
      "50000/50000 [==============================] - 4s 85us/step - loss: 0.5512 - acc: 0.8387 - val_loss: 1.6354 - val_acc: 0.4965\n",
      "Epoch 48/50\n",
      "50000/50000 [==============================] - 4s 87us/step - loss: 0.5336 - acc: 0.8456 - val_loss: 1.6240 - val_acc: 0.4982\n",
      "Epoch 49/50\n"
     ]
    },
    {
     "name": "stdout",
     "output_type": "stream",
     "text": [
      "50000/50000 [==============================] - 5s 92us/step - loss: 0.5178 - acc: 0.8516 - val_loss: 1.6519 - val_acc: 0.4936\n",
      "Epoch 50/50\n",
      "50000/50000 [==============================] - 5s 100us/step - loss: 0.5017 - acc: 0.8572 - val_loss: 1.6658 - val_acc: 0.49399\n"
     ]
    }
   ],
   "source": [
    "model = build_mlp(input_shape=x_train.shape[1:])\n",
    "model.summary()\n",
    "optimizer = keras.optimizers.SGD(lr=LEARNING_RATE, nesterov=True, momentum=MOMENTUM)\n",
    "model.compile(loss=\"categorical_crossentropy\", metrics=[\"accuracy\"], optimizer=optimizer)\n",
    "\n",
    "model.fit(x_train, y_train, \n",
    "          epochs=EPOCHS, \n",
    "          batch_size=BATCH_SIZE, \n",
    "          validation_data=(x_test, y_test), \n",
    "          shuffle=True,\n",
    "          callbacks=[model_ckpt]\n",
    "         )\n",
    "model.save(\"final_model.h5\")\n",
    "model.save_weights(\"model_weights.h5\")\n",
    "# Collect results\n",
    "train_loss = model.history.history[\"loss\"]\n",
    "valid_loss = model.history.history[\"val_loss\"]\n",
    "train_acc = model.history.history[\"acc\"]\n",
    "valid_acc = model.history.history[\"val_acc\"]\n",
    "\n",
    "pred_final = model.predict(x_test)\n",
    "#Load back\n",
    "model= keras.models.load_model(\"./tmp.h5\")\n",
    "pred_loadback=model.predict(x_test)"
   ]
  },
  {
   "cell_type": "code",
   "execution_count": 16,
   "metadata": {},
   "outputs": [
    {
     "name": "stdout",
     "output_type": "stream",
     "text": [
      "Accuracy of final weights: 0.494\n",
      "Accuracy of best weights: 0.500\n"
     ]
    }
   ],
   "source": [
    "from sklearn.metrics import accuracy_score\n",
    "\n",
    "final_model_acc = accuracy_score(y_true=y_test.argmax(axis=-1), y_pred=pred_final.argmax(axis=-1))\n",
    "loadback_acc = accuracy_score(y_true=y_test.argmax(axis=-1), y_pred=pred_loadback.argmax(axis=-1))\n",
    "\n",
    "print(\"Accuracy of final weights: %.3f\" % final_model_acc)\n",
    "print(\"Accuracy of best weights: %.3f\" % loadback_acc)"
   ]
  },
  {
   "cell_type": "code",
   "execution_count": 17,
   "metadata": {},
   "outputs": [
    {
     "name": "stdout",
     "output_type": "stream",
     "text": [
      "Accuracy of best weights: 0.094\n",
      "Accuracy of best weights: 0.494\n"
     ]
    }
   ],
   "source": [
    "new_model = build_mlp(input_shape=x_train.shape[1:])\n",
    "new_model_pred = new_model.predict(x_test)\n",
    "new_model_acc = accuracy_score(y_true=y_test.argmax(axis=-1), y_pred=new_model_pred.argmax(axis=-1))\n",
    "print(\"Accuracy of best weights: %.3f\" % new_model_acc)\n",
    "\n",
    "new_model.load_weights(\"./model_weights.h5\")\n",
    "new_model_pred = new_model.predict(x_test)\n",
    "new_model_loadback_acc = accuracy_score(y_true=y_test.argmax(axis=-1), y_pred=new_model_pred.argmax(axis=-1))\n",
    "print(\"Accuracy of best weights: %.3f\" % new_model_loadback_acc)"
   ]
  },
  {
   "cell_type": "code",
   "execution_count": null,
   "metadata": {},
   "outputs": [],
   "source": []
  }
 ],
 "metadata": {
  "kernelspec": {
   "display_name": "Python 3",
   "language": "python",
   "name": "python3"
  },
  "language_info": {
   "codemirror_mode": {
    "name": "ipython",
    "version": 3
   },
   "file_extension": ".py",
   "mimetype": "text/x-python",
   "name": "python",
   "nbconvert_exporter": "python",
   "pygments_lexer": "ipython3",
   "version": "3.5.5"
  }
 },
 "nbformat": 4,
 "nbformat_minor": 2
}
